{
  "nbformat": 4,
  "nbformat_minor": 0,
  "metadata": {
    "colab": {
      "name": "Live_Twitch - Datavis (completo).ipynb",
      "provenance": [],
      "collapsed_sections": [],
      "include_colab_link": true
    },
    "kernelspec": {
      "display_name": "Python 3",
      "language": "python",
      "name": "python3"
    },
    "language_info": {
      "codemirror_mode": {
        "name": "ipython",
        "version": 3
      },
      "file_extension": ".py",
      "mimetype": "text/x-python",
      "name": "python",
      "nbconvert_exporter": "python",
      "pygments_lexer": "ipython3",
      "version": "3.6.5"
    }
  },
  "cells": [
    {
      "cell_type": "markdown",
      "metadata": {
        "id": "view-in-github",
        "colab_type": "text"
      },
      "source": [
        "<a href=\"https://colab.research.google.com/github/afonsosr2/live-twitch-datavis/blob/main/Live_Twitch_Datavis_(completo).ipynb\" target=\"_parent\"><img src=\"https://colab.research.google.com/assets/colab-badge.svg\" alt=\"Open In Colab\"/></a>"
      ]
    },
    {
      "cell_type": "markdown",
      "metadata": {
        "id": "WvMflodMjQKe"
      },
      "source": [
        "***\n",
        "# <font color=purple size=10>Live Twitch</font>\n",
        "***"
      ]
    },
    {
      "cell_type": "markdown",
      "metadata": {
        "id": "TDjqYYNojQKh"
      },
      "source": [
        "## <font color=purple>1. Conhecendo o Dataset</font>\n",
        "***"
      ]
    },
    {
      "cell_type": "markdown",
      "metadata": {
        "id": "iN1gIbaKjQKh"
      },
      "source": [
        "### Pesquisa Nacional por Amostra de Domicílios - 2015\n",
        "\n",
        "A **Pesquisa Nacional por Amostra de Domicílios - PNAD** investiga anualmente, de forma permanente, características gerais da população, de educação, trabalho, rendimento e habitação e outras, com periodicidade variável, de acordo com as necessidades de informação para o país."
      ]
    },
    {
      "cell_type": "markdown",
      "metadata": {
        "id": "r0Fe_qnzjQKj"
      },
      "source": [
        "### Variáveis utilizadas\n",
        "\n",
        "> ### Renda\n",
        "> ***\n",
        "\n",
        "Rendimento mensal do trabalho principal para pessoas de 10 anos ou mais de idade.\n",
        "\n",
        "> ### Idade\n",
        "> ***\n",
        "\n",
        "Idade do morador na data de referência em anos.\n",
        "\n",
        "> ### Altura (elaboração própria)\n",
        "> ***\n",
        "\n",
        "Altura do morador em metros.\n",
        "\n",
        "> ### UF\n",
        "> ***\n",
        "\n",
        "|Código|Descrição|\n",
        "|---|---|\n",
        "|11|Rondônia|\n",
        "|12|Acre|\n",
        "|13|Amazonas|\n",
        "|14|Roraima|\n",
        "|15|Pará|\n",
        "|16|Amapá|\n",
        "|17|Tocantins|\n",
        "|21|Maranhão|\n",
        "|22|Piauí|\n",
        "|23|Ceará|\n",
        "|24|Rio Grande do Norte|\n",
        "|25|Paraíba|\n",
        "|26|Pernambuco|\n",
        "|27|Alagoas|\n",
        "|28|Sergipe|\n",
        "|29|Bahia|\n",
        "|31|Minas Gerais|\n",
        "|32|Espírito Santo|\n",
        "|33|Rio de Janeiro|\n",
        "|35|São Paulo|\n",
        "|41|Paraná|\n",
        "|42|Santa Catarina|\n",
        "|43|Rio Grande do Sul|\n",
        "|50|Mato Grosso do Sul|\n",
        "|51|Mato Grosso|\n",
        "|52|Goiás|\n",
        "|53|Distrito Federal|\n",
        "\n",
        "> ### Sexo\t\n",
        "> ***\n",
        "\n",
        "|Código|Descrição|\n",
        "|---|---|\n",
        "|0|Masculino|\n",
        "|1|Feminino|\n",
        "\n",
        "> ### Anos de Estudo\n",
        "> ***\n",
        "\n",
        "|Código|Descrição|\n",
        "|---|---|\n",
        "|1|Sem instrução e menos de 1 ano|\n",
        "|2|1 ano|\n",
        "|3|2 anos|\n",
        "|4|3 anos|\n",
        "|5|4 anos|\n",
        "|6|5 anos|\n",
        "|7|6 anos|\n",
        "|8|7 anos|\n",
        "|9|8 anos|\n",
        "|10|9 anos|\n",
        "|11|10 anos|\n",
        "|12|11 anos|\n",
        "|13|12 anos|\n",
        "|14|13 anos|\n",
        "|15|14 anos|\n",
        "|16|15 anos ou mais|\n",
        "|17|Não determinados| \n",
        "||Não aplicável|"
      ]
    },
    {
      "cell_type": "markdown",
      "metadata": {
        "id": "OK1IQH5cX7Gb"
      },
      "source": [
        "#### <font color='red'>Observação</font>\n",
        "***\n",
        "> Os seguintes tratamentos foram realizados nos dados originais:\n",
        "> 1. Foram eliminados os registros onde a **Renda** era inválida (999 999 999 999);\n",
        "> 2. Foram eliminados os registros onde a **Renda** era missing;\n",
        "> 3. Foram considerados somente os registros das **Pessoas de Referência** de cada domicílio (responsável pelo domicílio)."
      ]
    },
    {
      "cell_type": "markdown",
      "metadata": {
        "id": "8Rw70V6ojQKk"
      },
      "source": [
        "### Importando pandas e lendo o dataset\n",
        "\n",
        "https://pandas.pydata.org/"
      ]
    },
    {
      "cell_type": "code",
      "metadata": {
        "id": "8QgOpE-wjQKl"
      },
      "source": [
        "import pandas as pd"
      ],
      "execution_count": 4,
      "outputs": []
    },
    {
      "cell_type": "code",
      "metadata": {
        "id": "ufRZ7TLwjQKo"
      },
      "source": [
        "dados = pd.read_csv('https://raw.githubusercontent.com/afonsosr2/live-twitch-datavis/main/dados.csv')"
      ],
      "execution_count": 5,
      "outputs": []
    },
    {
      "cell_type": "code",
      "metadata": {
        "id": "GsC_WhLFjQKq",
        "scrolled": true,
        "colab": {
          "base_uri": "https://localhost:8080/",
          "height": 206
        },
        "outputId": "2281d09d-d294-41b7-b439-e5caf99977ee"
      },
      "source": [
        "dados.head()"
      ],
      "execution_count": 6,
      "outputs": [
        {
          "output_type": "execute_result",
          "data": {
            "text/plain": [
              "   UF  Sexo  Idade  Cor  Anos de Estudo  Renda    Altura\n",
              "0  11     0     23    8              12    800  1.603808\n",
              "1  11     1     23    2              12   1150  1.739790\n",
              "2  11     1     35    8              15    880  1.760444\n",
              "3  11     0     46    2               6   3500  1.783158\n",
              "4  11     1     47    8               9    150  1.690631"
            ],
            "text/html": [
              "\n",
              "  <div id=\"df-4d687dad-4a32-417b-8f92-0d12ad401f78\">\n",
              "    <div class=\"colab-df-container\">\n",
              "      <div>\n",
              "<style scoped>\n",
              "    .dataframe tbody tr th:only-of-type {\n",
              "        vertical-align: middle;\n",
              "    }\n",
              "\n",
              "    .dataframe tbody tr th {\n",
              "        vertical-align: top;\n",
              "    }\n",
              "\n",
              "    .dataframe thead th {\n",
              "        text-align: right;\n",
              "    }\n",
              "</style>\n",
              "<table border=\"1\" class=\"dataframe\">\n",
              "  <thead>\n",
              "    <tr style=\"text-align: right;\">\n",
              "      <th></th>\n",
              "      <th>UF</th>\n",
              "      <th>Sexo</th>\n",
              "      <th>Idade</th>\n",
              "      <th>Cor</th>\n",
              "      <th>Anos de Estudo</th>\n",
              "      <th>Renda</th>\n",
              "      <th>Altura</th>\n",
              "    </tr>\n",
              "  </thead>\n",
              "  <tbody>\n",
              "    <tr>\n",
              "      <th>0</th>\n",
              "      <td>11</td>\n",
              "      <td>0</td>\n",
              "      <td>23</td>\n",
              "      <td>8</td>\n",
              "      <td>12</td>\n",
              "      <td>800</td>\n",
              "      <td>1.603808</td>\n",
              "    </tr>\n",
              "    <tr>\n",
              "      <th>1</th>\n",
              "      <td>11</td>\n",
              "      <td>1</td>\n",
              "      <td>23</td>\n",
              "      <td>2</td>\n",
              "      <td>12</td>\n",
              "      <td>1150</td>\n",
              "      <td>1.739790</td>\n",
              "    </tr>\n",
              "    <tr>\n",
              "      <th>2</th>\n",
              "      <td>11</td>\n",
              "      <td>1</td>\n",
              "      <td>35</td>\n",
              "      <td>8</td>\n",
              "      <td>15</td>\n",
              "      <td>880</td>\n",
              "      <td>1.760444</td>\n",
              "    </tr>\n",
              "    <tr>\n",
              "      <th>3</th>\n",
              "      <td>11</td>\n",
              "      <td>0</td>\n",
              "      <td>46</td>\n",
              "      <td>2</td>\n",
              "      <td>6</td>\n",
              "      <td>3500</td>\n",
              "      <td>1.783158</td>\n",
              "    </tr>\n",
              "    <tr>\n",
              "      <th>4</th>\n",
              "      <td>11</td>\n",
              "      <td>1</td>\n",
              "      <td>47</td>\n",
              "      <td>8</td>\n",
              "      <td>9</td>\n",
              "      <td>150</td>\n",
              "      <td>1.690631</td>\n",
              "    </tr>\n",
              "  </tbody>\n",
              "</table>\n",
              "</div>\n",
              "      <button class=\"colab-df-convert\" onclick=\"convertToInteractive('df-4d687dad-4a32-417b-8f92-0d12ad401f78')\"\n",
              "              title=\"Convert this dataframe to an interactive table.\"\n",
              "              style=\"display:none;\">\n",
              "        \n",
              "  <svg xmlns=\"http://www.w3.org/2000/svg\" height=\"24px\"viewBox=\"0 0 24 24\"\n",
              "       width=\"24px\">\n",
              "    <path d=\"M0 0h24v24H0V0z\" fill=\"none\"/>\n",
              "    <path d=\"M18.56 5.44l.94 2.06.94-2.06 2.06-.94-2.06-.94-.94-2.06-.94 2.06-2.06.94zm-11 1L8.5 8.5l.94-2.06 2.06-.94-2.06-.94L8.5 2.5l-.94 2.06-2.06.94zm10 10l.94 2.06.94-2.06 2.06-.94-2.06-.94-.94-2.06-.94 2.06-2.06.94z\"/><path d=\"M17.41 7.96l-1.37-1.37c-.4-.4-.92-.59-1.43-.59-.52 0-1.04.2-1.43.59L10.3 9.45l-7.72 7.72c-.78.78-.78 2.05 0 2.83L4 21.41c.39.39.9.59 1.41.59.51 0 1.02-.2 1.41-.59l7.78-7.78 2.81-2.81c.8-.78.8-2.07 0-2.86zM5.41 20L4 18.59l7.72-7.72 1.47 1.35L5.41 20z\"/>\n",
              "  </svg>\n",
              "      </button>\n",
              "      \n",
              "  <style>\n",
              "    .colab-df-container {\n",
              "      display:flex;\n",
              "      flex-wrap:wrap;\n",
              "      gap: 12px;\n",
              "    }\n",
              "\n",
              "    .colab-df-convert {\n",
              "      background-color: #E8F0FE;\n",
              "      border: none;\n",
              "      border-radius: 50%;\n",
              "      cursor: pointer;\n",
              "      display: none;\n",
              "      fill: #1967D2;\n",
              "      height: 32px;\n",
              "      padding: 0 0 0 0;\n",
              "      width: 32px;\n",
              "    }\n",
              "\n",
              "    .colab-df-convert:hover {\n",
              "      background-color: #E2EBFA;\n",
              "      box-shadow: 0px 1px 2px rgba(60, 64, 67, 0.3), 0px 1px 3px 1px rgba(60, 64, 67, 0.15);\n",
              "      fill: #174EA6;\n",
              "    }\n",
              "\n",
              "    [theme=dark] .colab-df-convert {\n",
              "      background-color: #3B4455;\n",
              "      fill: #D2E3FC;\n",
              "    }\n",
              "\n",
              "    [theme=dark] .colab-df-convert:hover {\n",
              "      background-color: #434B5C;\n",
              "      box-shadow: 0px 1px 3px 1px rgba(0, 0, 0, 0.15);\n",
              "      filter: drop-shadow(0px 1px 2px rgba(0, 0, 0, 0.3));\n",
              "      fill: #FFFFFF;\n",
              "    }\n",
              "  </style>\n",
              "\n",
              "      <script>\n",
              "        const buttonEl =\n",
              "          document.querySelector('#df-4d687dad-4a32-417b-8f92-0d12ad401f78 button.colab-df-convert');\n",
              "        buttonEl.style.display =\n",
              "          google.colab.kernel.accessAllowed ? 'block' : 'none';\n",
              "\n",
              "        async function convertToInteractive(key) {\n",
              "          const element = document.querySelector('#df-4d687dad-4a32-417b-8f92-0d12ad401f78');\n",
              "          const dataTable =\n",
              "            await google.colab.kernel.invokeFunction('convertToInteractive',\n",
              "                                                     [key], {});\n",
              "          if (!dataTable) return;\n",
              "\n",
              "          const docLinkHtml = 'Like what you see? Visit the ' +\n",
              "            '<a target=\"_blank\" href=https://colab.research.google.com/notebooks/data_table.ipynb>data table notebook</a>'\n",
              "            + ' to learn more about interactive tables.';\n",
              "          element.innerHTML = '';\n",
              "          dataTable['output_type'] = 'display_data';\n",
              "          await google.colab.output.renderOutput(dataTable, element);\n",
              "          const docLink = document.createElement('div');\n",
              "          docLink.innerHTML = docLinkHtml;\n",
              "          element.appendChild(docLink);\n",
              "        }\n",
              "      </script>\n",
              "    </div>\n",
              "  </div>\n",
              "  "
            ]
          },
          "metadata": {},
          "execution_count": 6
        }
      ]
    },
    {
      "cell_type": "markdown",
      "source": [
        "## <font color=purple>2. Tratando os dados</font>\n",
        "***"
      ],
      "metadata": {
        "id": "qE-__tDyVvd8"
      }
    },
    {
      "cell_type": "code",
      "source": [
        "# Gerando a coluna de Região através da leitura do 1º caractere de UF\n",
        "regiao = []\n",
        "for pos in range(0,len(dados[\"UF\"])):\n",
        "    regiao.append(str(dados[\"UF\"][pos])[0])\n",
        "\n",
        "def set_values(row, value):\n",
        "    return value[row]\n",
        "\n",
        "map_dictionary ={\"1\": \"Norte\", \"2\":\"Nordeste\", \"3\": \"Sudeste\", \"4\": \"Sul\", \"5\": \"Centro-Oeste\"} \n",
        "dados[\"UF_2\"] = regiao\n",
        "\n",
        "dados['Regiao'] = dados[\"UF_2\"].apply(set_values, args =(map_dictionary, )) \n",
        "dados.head(3)"
      ],
      "metadata": {
        "colab": {
          "base_uri": "https://localhost:8080/",
          "height": 143
        },
        "id": "FgFoBQsYegPr",
        "outputId": "08a8b53b-23d2-4b79-891e-76940aeb10ad"
      },
      "execution_count": 7,
      "outputs": [
        {
          "output_type": "execute_result",
          "data": {
            "text/plain": [
              "   UF  Sexo  Idade  Cor  Anos de Estudo  Renda    Altura UF_2 Regiao\n",
              "0  11     0     23    8              12    800  1.603808    1  Norte\n",
              "1  11     1     23    2              12   1150  1.739790    1  Norte\n",
              "2  11     1     35    8              15    880  1.760444    1  Norte"
            ],
            "text/html": [
              "\n",
              "  <div id=\"df-fb04560d-1fec-4b00-bf7c-6093febf3f4e\">\n",
              "    <div class=\"colab-df-container\">\n",
              "      <div>\n",
              "<style scoped>\n",
              "    .dataframe tbody tr th:only-of-type {\n",
              "        vertical-align: middle;\n",
              "    }\n",
              "\n",
              "    .dataframe tbody tr th {\n",
              "        vertical-align: top;\n",
              "    }\n",
              "\n",
              "    .dataframe thead th {\n",
              "        text-align: right;\n",
              "    }\n",
              "</style>\n",
              "<table border=\"1\" class=\"dataframe\">\n",
              "  <thead>\n",
              "    <tr style=\"text-align: right;\">\n",
              "      <th></th>\n",
              "      <th>UF</th>\n",
              "      <th>Sexo</th>\n",
              "      <th>Idade</th>\n",
              "      <th>Cor</th>\n",
              "      <th>Anos de Estudo</th>\n",
              "      <th>Renda</th>\n",
              "      <th>Altura</th>\n",
              "      <th>UF_2</th>\n",
              "      <th>Regiao</th>\n",
              "    </tr>\n",
              "  </thead>\n",
              "  <tbody>\n",
              "    <tr>\n",
              "      <th>0</th>\n",
              "      <td>11</td>\n",
              "      <td>0</td>\n",
              "      <td>23</td>\n",
              "      <td>8</td>\n",
              "      <td>12</td>\n",
              "      <td>800</td>\n",
              "      <td>1.603808</td>\n",
              "      <td>1</td>\n",
              "      <td>Norte</td>\n",
              "    </tr>\n",
              "    <tr>\n",
              "      <th>1</th>\n",
              "      <td>11</td>\n",
              "      <td>1</td>\n",
              "      <td>23</td>\n",
              "      <td>2</td>\n",
              "      <td>12</td>\n",
              "      <td>1150</td>\n",
              "      <td>1.739790</td>\n",
              "      <td>1</td>\n",
              "      <td>Norte</td>\n",
              "    </tr>\n",
              "    <tr>\n",
              "      <th>2</th>\n",
              "      <td>11</td>\n",
              "      <td>1</td>\n",
              "      <td>35</td>\n",
              "      <td>8</td>\n",
              "      <td>15</td>\n",
              "      <td>880</td>\n",
              "      <td>1.760444</td>\n",
              "      <td>1</td>\n",
              "      <td>Norte</td>\n",
              "    </tr>\n",
              "  </tbody>\n",
              "</table>\n",
              "</div>\n",
              "      <button class=\"colab-df-convert\" onclick=\"convertToInteractive('df-fb04560d-1fec-4b00-bf7c-6093febf3f4e')\"\n",
              "              title=\"Convert this dataframe to an interactive table.\"\n",
              "              style=\"display:none;\">\n",
              "        \n",
              "  <svg xmlns=\"http://www.w3.org/2000/svg\" height=\"24px\"viewBox=\"0 0 24 24\"\n",
              "       width=\"24px\">\n",
              "    <path d=\"M0 0h24v24H0V0z\" fill=\"none\"/>\n",
              "    <path d=\"M18.56 5.44l.94 2.06.94-2.06 2.06-.94-2.06-.94-.94-2.06-.94 2.06-2.06.94zm-11 1L8.5 8.5l.94-2.06 2.06-.94-2.06-.94L8.5 2.5l-.94 2.06-2.06.94zm10 10l.94 2.06.94-2.06 2.06-.94-2.06-.94-.94-2.06-.94 2.06-2.06.94z\"/><path d=\"M17.41 7.96l-1.37-1.37c-.4-.4-.92-.59-1.43-.59-.52 0-1.04.2-1.43.59L10.3 9.45l-7.72 7.72c-.78.78-.78 2.05 0 2.83L4 21.41c.39.39.9.59 1.41.59.51 0 1.02-.2 1.41-.59l7.78-7.78 2.81-2.81c.8-.78.8-2.07 0-2.86zM5.41 20L4 18.59l7.72-7.72 1.47 1.35L5.41 20z\"/>\n",
              "  </svg>\n",
              "      </button>\n",
              "      \n",
              "  <style>\n",
              "    .colab-df-container {\n",
              "      display:flex;\n",
              "      flex-wrap:wrap;\n",
              "      gap: 12px;\n",
              "    }\n",
              "\n",
              "    .colab-df-convert {\n",
              "      background-color: #E8F0FE;\n",
              "      border: none;\n",
              "      border-radius: 50%;\n",
              "      cursor: pointer;\n",
              "      display: none;\n",
              "      fill: #1967D2;\n",
              "      height: 32px;\n",
              "      padding: 0 0 0 0;\n",
              "      width: 32px;\n",
              "    }\n",
              "\n",
              "    .colab-df-convert:hover {\n",
              "      background-color: #E2EBFA;\n",
              "      box-shadow: 0px 1px 2px rgba(60, 64, 67, 0.3), 0px 1px 3px 1px rgba(60, 64, 67, 0.15);\n",
              "      fill: #174EA6;\n",
              "    }\n",
              "\n",
              "    [theme=dark] .colab-df-convert {\n",
              "      background-color: #3B4455;\n",
              "      fill: #D2E3FC;\n",
              "    }\n",
              "\n",
              "    [theme=dark] .colab-df-convert:hover {\n",
              "      background-color: #434B5C;\n",
              "      box-shadow: 0px 1px 3px 1px rgba(0, 0, 0, 0.15);\n",
              "      filter: drop-shadow(0px 1px 2px rgba(0, 0, 0, 0.3));\n",
              "      fill: #FFFFFF;\n",
              "    }\n",
              "  </style>\n",
              "\n",
              "      <script>\n",
              "        const buttonEl =\n",
              "          document.querySelector('#df-fb04560d-1fec-4b00-bf7c-6093febf3f4e button.colab-df-convert');\n",
              "        buttonEl.style.display =\n",
              "          google.colab.kernel.accessAllowed ? 'block' : 'none';\n",
              "\n",
              "        async function convertToInteractive(key) {\n",
              "          const element = document.querySelector('#df-fb04560d-1fec-4b00-bf7c-6093febf3f4e');\n",
              "          const dataTable =\n",
              "            await google.colab.kernel.invokeFunction('convertToInteractive',\n",
              "                                                     [key], {});\n",
              "          if (!dataTable) return;\n",
              "\n",
              "          const docLinkHtml = 'Like what you see? Visit the ' +\n",
              "            '<a target=\"_blank\" href=https://colab.research.google.com/notebooks/data_table.ipynb>data table notebook</a>'\n",
              "            + ' to learn more about interactive tables.';\n",
              "          element.innerHTML = '';\n",
              "          dataTable['output_type'] = 'display_data';\n",
              "          await google.colab.output.renderOutput(dataTable, element);\n",
              "          const docLink = document.createElement('div');\n",
              "          docLink.innerHTML = docLinkHtml;\n",
              "          element.appendChild(docLink);\n",
              "        }\n",
              "      </script>\n",
              "    </div>\n",
              "  </div>\n",
              "  "
            ]
          },
          "metadata": {},
          "execution_count": 7
        }
      ]
    },
    {
      "cell_type": "code",
      "source": [
        "# Trocando os números pelos nomes dos estados e ajustando outras variáveis categóricas do dataframe\n",
        "estados = {11:\t\"Rondônia\", 12:\t\"Acre\", 13:\t\"Amazonas\", 14:\t\"Roraima\", 15:\t\"Pará\",\n",
        "           16:\t\"Amapá\", 17:\t\"Tocantins\", 21:\t\"Maranhão\", 22:\t\"Piauí\", 23:\t\"Ceará\",\n",
        "           24:\t\"Rio Grande do Norte\", 25:\t\"Paraíba\", 26:\t\"Pernambuco\", 27:\t\"Alagoas\",\n",
        "           28:\t\"Sergipe\", 29:\t\"Bahia\", 31:\t\"Minas Gerais\", 32:\t\"Espírito Santo\",\n",
        "           33:\t\"Rio de Janeiro\", 35:\t\"São Paulo\", 41:\t\"Paraná\", 42:\t\"Santa Catarina\",\n",
        "           43:\t\"Rio Grande do Sul\", 50:\t\"Mato Grosso do Sul\", 51:\t\"Mato Grosso\",\n",
        "           52:\t\"Goiás\", 53:\t\"Distrito Federal\"}\n",
        "\n",
        "dados[\"UF\"] = dados[\"UF\"].map(estados)\n",
        "dados[\"Sexo\"] = dados[\"Sexo\"].map({0: \"Masculino\", 1: \"Feminino\"})\n",
        "dados.drop(columns=[\"UF_2\"], inplace = True)\n",
        "\n",
        "# Selecionando as colunas de interesse\n",
        "df = dados[[\"UF\", \"Regiao\", \"Sexo\", \"Idade\", \"Renda\", \"Anos de Estudo\"]]\n",
        "df.sample(10)"
      ],
      "metadata": {
        "id": "LLEQ41i-XRB9",
        "colab": {
          "base_uri": "https://localhost:8080/",
          "height": 363
        },
        "outputId": "ac4e858b-a40f-4b63-bb94-76b639e7b494"
      },
      "execution_count": 8,
      "outputs": [
        {
          "output_type": "execute_result",
          "data": {
            "text/plain": [
              "                   UF    Regiao       Sexo  Idade  Renda  Anos de Estudo\n",
              "3582         Amazonas     Norte   Feminino     52    500              12\n",
              "57193          Paraná       Sul  Masculino     44   4000              12\n",
              "43402  Rio de Janeiro   Sudeste   Feminino     38   2500              13\n",
              "14669           Ceará  Nordeste  Masculino     19    160               8\n",
              "26210           Bahia  Nordeste   Feminino     75      0               1\n",
              "50314       São Paulo   Sudeste  Masculino     48   1500               6\n",
              "15489           Ceará  Nordeste  Masculino     44   1200               6\n",
              "38502    Minas Gerais   Sudeste  Masculino     53   1800               1\n",
              "13768           Piauí  Nordeste  Masculino     31     13               5\n",
              "27672           Bahia  Nordeste   Feminino     35    800              12"
            ],
            "text/html": [
              "\n",
              "  <div id=\"df-d03b9355-ea75-4cb2-a379-9ddbf2433dc1\">\n",
              "    <div class=\"colab-df-container\">\n",
              "      <div>\n",
              "<style scoped>\n",
              "    .dataframe tbody tr th:only-of-type {\n",
              "        vertical-align: middle;\n",
              "    }\n",
              "\n",
              "    .dataframe tbody tr th {\n",
              "        vertical-align: top;\n",
              "    }\n",
              "\n",
              "    .dataframe thead th {\n",
              "        text-align: right;\n",
              "    }\n",
              "</style>\n",
              "<table border=\"1\" class=\"dataframe\">\n",
              "  <thead>\n",
              "    <tr style=\"text-align: right;\">\n",
              "      <th></th>\n",
              "      <th>UF</th>\n",
              "      <th>Regiao</th>\n",
              "      <th>Sexo</th>\n",
              "      <th>Idade</th>\n",
              "      <th>Renda</th>\n",
              "      <th>Anos de Estudo</th>\n",
              "    </tr>\n",
              "  </thead>\n",
              "  <tbody>\n",
              "    <tr>\n",
              "      <th>3582</th>\n",
              "      <td>Amazonas</td>\n",
              "      <td>Norte</td>\n",
              "      <td>Feminino</td>\n",
              "      <td>52</td>\n",
              "      <td>500</td>\n",
              "      <td>12</td>\n",
              "    </tr>\n",
              "    <tr>\n",
              "      <th>57193</th>\n",
              "      <td>Paraná</td>\n",
              "      <td>Sul</td>\n",
              "      <td>Masculino</td>\n",
              "      <td>44</td>\n",
              "      <td>4000</td>\n",
              "      <td>12</td>\n",
              "    </tr>\n",
              "    <tr>\n",
              "      <th>43402</th>\n",
              "      <td>Rio de Janeiro</td>\n",
              "      <td>Sudeste</td>\n",
              "      <td>Feminino</td>\n",
              "      <td>38</td>\n",
              "      <td>2500</td>\n",
              "      <td>13</td>\n",
              "    </tr>\n",
              "    <tr>\n",
              "      <th>14669</th>\n",
              "      <td>Ceará</td>\n",
              "      <td>Nordeste</td>\n",
              "      <td>Masculino</td>\n",
              "      <td>19</td>\n",
              "      <td>160</td>\n",
              "      <td>8</td>\n",
              "    </tr>\n",
              "    <tr>\n",
              "      <th>26210</th>\n",
              "      <td>Bahia</td>\n",
              "      <td>Nordeste</td>\n",
              "      <td>Feminino</td>\n",
              "      <td>75</td>\n",
              "      <td>0</td>\n",
              "      <td>1</td>\n",
              "    </tr>\n",
              "    <tr>\n",
              "      <th>50314</th>\n",
              "      <td>São Paulo</td>\n",
              "      <td>Sudeste</td>\n",
              "      <td>Masculino</td>\n",
              "      <td>48</td>\n",
              "      <td>1500</td>\n",
              "      <td>6</td>\n",
              "    </tr>\n",
              "    <tr>\n",
              "      <th>15489</th>\n",
              "      <td>Ceará</td>\n",
              "      <td>Nordeste</td>\n",
              "      <td>Masculino</td>\n",
              "      <td>44</td>\n",
              "      <td>1200</td>\n",
              "      <td>6</td>\n",
              "    </tr>\n",
              "    <tr>\n",
              "      <th>38502</th>\n",
              "      <td>Minas Gerais</td>\n",
              "      <td>Sudeste</td>\n",
              "      <td>Masculino</td>\n",
              "      <td>53</td>\n",
              "      <td>1800</td>\n",
              "      <td>1</td>\n",
              "    </tr>\n",
              "    <tr>\n",
              "      <th>13768</th>\n",
              "      <td>Piauí</td>\n",
              "      <td>Nordeste</td>\n",
              "      <td>Masculino</td>\n",
              "      <td>31</td>\n",
              "      <td>13</td>\n",
              "      <td>5</td>\n",
              "    </tr>\n",
              "    <tr>\n",
              "      <th>27672</th>\n",
              "      <td>Bahia</td>\n",
              "      <td>Nordeste</td>\n",
              "      <td>Feminino</td>\n",
              "      <td>35</td>\n",
              "      <td>800</td>\n",
              "      <td>12</td>\n",
              "    </tr>\n",
              "  </tbody>\n",
              "</table>\n",
              "</div>\n",
              "      <button class=\"colab-df-convert\" onclick=\"convertToInteractive('df-d03b9355-ea75-4cb2-a379-9ddbf2433dc1')\"\n",
              "              title=\"Convert this dataframe to an interactive table.\"\n",
              "              style=\"display:none;\">\n",
              "        \n",
              "  <svg xmlns=\"http://www.w3.org/2000/svg\" height=\"24px\"viewBox=\"0 0 24 24\"\n",
              "       width=\"24px\">\n",
              "    <path d=\"M0 0h24v24H0V0z\" fill=\"none\"/>\n",
              "    <path d=\"M18.56 5.44l.94 2.06.94-2.06 2.06-.94-2.06-.94-.94-2.06-.94 2.06-2.06.94zm-11 1L8.5 8.5l.94-2.06 2.06-.94-2.06-.94L8.5 2.5l-.94 2.06-2.06.94zm10 10l.94 2.06.94-2.06 2.06-.94-2.06-.94-.94-2.06-.94 2.06-2.06.94z\"/><path d=\"M17.41 7.96l-1.37-1.37c-.4-.4-.92-.59-1.43-.59-.52 0-1.04.2-1.43.59L10.3 9.45l-7.72 7.72c-.78.78-.78 2.05 0 2.83L4 21.41c.39.39.9.59 1.41.59.51 0 1.02-.2 1.41-.59l7.78-7.78 2.81-2.81c.8-.78.8-2.07 0-2.86zM5.41 20L4 18.59l7.72-7.72 1.47 1.35L5.41 20z\"/>\n",
              "  </svg>\n",
              "      </button>\n",
              "      \n",
              "  <style>\n",
              "    .colab-df-container {\n",
              "      display:flex;\n",
              "      flex-wrap:wrap;\n",
              "      gap: 12px;\n",
              "    }\n",
              "\n",
              "    .colab-df-convert {\n",
              "      background-color: #E8F0FE;\n",
              "      border: none;\n",
              "      border-radius: 50%;\n",
              "      cursor: pointer;\n",
              "      display: none;\n",
              "      fill: #1967D2;\n",
              "      height: 32px;\n",
              "      padding: 0 0 0 0;\n",
              "      width: 32px;\n",
              "    }\n",
              "\n",
              "    .colab-df-convert:hover {\n",
              "      background-color: #E2EBFA;\n",
              "      box-shadow: 0px 1px 2px rgba(60, 64, 67, 0.3), 0px 1px 3px 1px rgba(60, 64, 67, 0.15);\n",
              "      fill: #174EA6;\n",
              "    }\n",
              "\n",
              "    [theme=dark] .colab-df-convert {\n",
              "      background-color: #3B4455;\n",
              "      fill: #D2E3FC;\n",
              "    }\n",
              "\n",
              "    [theme=dark] .colab-df-convert:hover {\n",
              "      background-color: #434B5C;\n",
              "      box-shadow: 0px 1px 3px 1px rgba(0, 0, 0, 0.15);\n",
              "      filter: drop-shadow(0px 1px 2px rgba(0, 0, 0, 0.3));\n",
              "      fill: #FFFFFF;\n",
              "    }\n",
              "  </style>\n",
              "\n",
              "      <script>\n",
              "        const buttonEl =\n",
              "          document.querySelector('#df-d03b9355-ea75-4cb2-a379-9ddbf2433dc1 button.colab-df-convert');\n",
              "        buttonEl.style.display =\n",
              "          google.colab.kernel.accessAllowed ? 'block' : 'none';\n",
              "\n",
              "        async function convertToInteractive(key) {\n",
              "          const element = document.querySelector('#df-d03b9355-ea75-4cb2-a379-9ddbf2433dc1');\n",
              "          const dataTable =\n",
              "            await google.colab.kernel.invokeFunction('convertToInteractive',\n",
              "                                                     [key], {});\n",
              "          if (!dataTable) return;\n",
              "\n",
              "          const docLinkHtml = 'Like what you see? Visit the ' +\n",
              "            '<a target=\"_blank\" href=https://colab.research.google.com/notebooks/data_table.ipynb>data table notebook</a>'\n",
              "            + ' to learn more about interactive tables.';\n",
              "          element.innerHTML = '';\n",
              "          dataTable['output_type'] = 'display_data';\n",
              "          await google.colab.output.renderOutput(dataTable, element);\n",
              "          const docLink = document.createElement('div');\n",
              "          docLink.innerHTML = docLinkHtml;\n",
              "          element.appendChild(docLink);\n",
              "        }\n",
              "      </script>\n",
              "    </div>\n",
              "  </div>\n",
              "  "
            ]
          },
          "metadata": {},
          "execution_count": 8
        }
      ]
    },
    {
      "cell_type": "markdown",
      "source": [
        "## <font color=purple>3. Visualização dos Dados</font>\n",
        "***"
      ],
      "metadata": {
        "id": "kiOUBRtzmdmQ"
      }
    },
    {
      "cell_type": "code",
      "metadata": {
        "id": "k7yJucVMG3Fw",
        "colab": {
          "base_uri": "https://localhost:8080/",
          "height": 423
        },
        "outputId": "14bc7132-8c6e-44e0-8066-2ea4ebc8ff18"
      },
      "source": [
        "# Separando o dataset para as análises (renda menor que 10000) e 1000 amostras aleatórias\n",
        "df = df.query(\"Renda <= 10000\")\n",
        "amostra = df.sample(n=1000, random_state=42)\n",
        "amostra"
      ],
      "execution_count": 9,
      "outputs": [
        {
          "output_type": "execute_result",
          "data": {
            "text/plain": [
              "                     UF        Regiao       Sexo  Idade  Renda  Anos de Estudo\n",
              "33153      Minas Gerais       Sudeste  Masculino     65   1000               5\n",
              "13719             Piauí      Nordeste   Feminino     51    450               4\n",
              "51534         São Paulo       Sudeste  Masculino     54   5000              12\n",
              "29121             Bahia      Nordeste   Feminino     51   1000               9\n",
              "30592             Bahia      Nordeste   Feminino     36    788              17\n",
              "...                 ...           ...        ...    ...    ...             ...\n",
              "52197         São Paulo       Sudeste   Feminino     24   2600              13\n",
              "51389         São Paulo       Sudeste  Masculino     51   9000              15\n",
              "43537    Rio de Janeiro       Sudeste  Masculino     33   7300              16\n",
              "76092  Distrito Federal  Centro-Oeste   Feminino     39   3000              12\n",
              "52976         São Paulo       Sudeste   Feminino     39   1200              16\n",
              "\n",
              "[1000 rows x 6 columns]"
            ],
            "text/html": [
              "\n",
              "  <div id=\"df-8ec0ed91-be44-4427-bf6c-2dc79ac7861f\">\n",
              "    <div class=\"colab-df-container\">\n",
              "      <div>\n",
              "<style scoped>\n",
              "    .dataframe tbody tr th:only-of-type {\n",
              "        vertical-align: middle;\n",
              "    }\n",
              "\n",
              "    .dataframe tbody tr th {\n",
              "        vertical-align: top;\n",
              "    }\n",
              "\n",
              "    .dataframe thead th {\n",
              "        text-align: right;\n",
              "    }\n",
              "</style>\n",
              "<table border=\"1\" class=\"dataframe\">\n",
              "  <thead>\n",
              "    <tr style=\"text-align: right;\">\n",
              "      <th></th>\n",
              "      <th>UF</th>\n",
              "      <th>Regiao</th>\n",
              "      <th>Sexo</th>\n",
              "      <th>Idade</th>\n",
              "      <th>Renda</th>\n",
              "      <th>Anos de Estudo</th>\n",
              "    </tr>\n",
              "  </thead>\n",
              "  <tbody>\n",
              "    <tr>\n",
              "      <th>33153</th>\n",
              "      <td>Minas Gerais</td>\n",
              "      <td>Sudeste</td>\n",
              "      <td>Masculino</td>\n",
              "      <td>65</td>\n",
              "      <td>1000</td>\n",
              "      <td>5</td>\n",
              "    </tr>\n",
              "    <tr>\n",
              "      <th>13719</th>\n",
              "      <td>Piauí</td>\n",
              "      <td>Nordeste</td>\n",
              "      <td>Feminino</td>\n",
              "      <td>51</td>\n",
              "      <td>450</td>\n",
              "      <td>4</td>\n",
              "    </tr>\n",
              "    <tr>\n",
              "      <th>51534</th>\n",
              "      <td>São Paulo</td>\n",
              "      <td>Sudeste</td>\n",
              "      <td>Masculino</td>\n",
              "      <td>54</td>\n",
              "      <td>5000</td>\n",
              "      <td>12</td>\n",
              "    </tr>\n",
              "    <tr>\n",
              "      <th>29121</th>\n",
              "      <td>Bahia</td>\n",
              "      <td>Nordeste</td>\n",
              "      <td>Feminino</td>\n",
              "      <td>51</td>\n",
              "      <td>1000</td>\n",
              "      <td>9</td>\n",
              "    </tr>\n",
              "    <tr>\n",
              "      <th>30592</th>\n",
              "      <td>Bahia</td>\n",
              "      <td>Nordeste</td>\n",
              "      <td>Feminino</td>\n",
              "      <td>36</td>\n",
              "      <td>788</td>\n",
              "      <td>17</td>\n",
              "    </tr>\n",
              "    <tr>\n",
              "      <th>...</th>\n",
              "      <td>...</td>\n",
              "      <td>...</td>\n",
              "      <td>...</td>\n",
              "      <td>...</td>\n",
              "      <td>...</td>\n",
              "      <td>...</td>\n",
              "    </tr>\n",
              "    <tr>\n",
              "      <th>52197</th>\n",
              "      <td>São Paulo</td>\n",
              "      <td>Sudeste</td>\n",
              "      <td>Feminino</td>\n",
              "      <td>24</td>\n",
              "      <td>2600</td>\n",
              "      <td>13</td>\n",
              "    </tr>\n",
              "    <tr>\n",
              "      <th>51389</th>\n",
              "      <td>São Paulo</td>\n",
              "      <td>Sudeste</td>\n",
              "      <td>Masculino</td>\n",
              "      <td>51</td>\n",
              "      <td>9000</td>\n",
              "      <td>15</td>\n",
              "    </tr>\n",
              "    <tr>\n",
              "      <th>43537</th>\n",
              "      <td>Rio de Janeiro</td>\n",
              "      <td>Sudeste</td>\n",
              "      <td>Masculino</td>\n",
              "      <td>33</td>\n",
              "      <td>7300</td>\n",
              "      <td>16</td>\n",
              "    </tr>\n",
              "    <tr>\n",
              "      <th>76092</th>\n",
              "      <td>Distrito Federal</td>\n",
              "      <td>Centro-Oeste</td>\n",
              "      <td>Feminino</td>\n",
              "      <td>39</td>\n",
              "      <td>3000</td>\n",
              "      <td>12</td>\n",
              "    </tr>\n",
              "    <tr>\n",
              "      <th>52976</th>\n",
              "      <td>São Paulo</td>\n",
              "      <td>Sudeste</td>\n",
              "      <td>Feminino</td>\n",
              "      <td>39</td>\n",
              "      <td>1200</td>\n",
              "      <td>16</td>\n",
              "    </tr>\n",
              "  </tbody>\n",
              "</table>\n",
              "<p>1000 rows × 6 columns</p>\n",
              "</div>\n",
              "      <button class=\"colab-df-convert\" onclick=\"convertToInteractive('df-8ec0ed91-be44-4427-bf6c-2dc79ac7861f')\"\n",
              "              title=\"Convert this dataframe to an interactive table.\"\n",
              "              style=\"display:none;\">\n",
              "        \n",
              "  <svg xmlns=\"http://www.w3.org/2000/svg\" height=\"24px\"viewBox=\"0 0 24 24\"\n",
              "       width=\"24px\">\n",
              "    <path d=\"M0 0h24v24H0V0z\" fill=\"none\"/>\n",
              "    <path d=\"M18.56 5.44l.94 2.06.94-2.06 2.06-.94-2.06-.94-.94-2.06-.94 2.06-2.06.94zm-11 1L8.5 8.5l.94-2.06 2.06-.94-2.06-.94L8.5 2.5l-.94 2.06-2.06.94zm10 10l.94 2.06.94-2.06 2.06-.94-2.06-.94-.94-2.06-.94 2.06-2.06.94z\"/><path d=\"M17.41 7.96l-1.37-1.37c-.4-.4-.92-.59-1.43-.59-.52 0-1.04.2-1.43.59L10.3 9.45l-7.72 7.72c-.78.78-.78 2.05 0 2.83L4 21.41c.39.39.9.59 1.41.59.51 0 1.02-.2 1.41-.59l7.78-7.78 2.81-2.81c.8-.78.8-2.07 0-2.86zM5.41 20L4 18.59l7.72-7.72 1.47 1.35L5.41 20z\"/>\n",
              "  </svg>\n",
              "      </button>\n",
              "      \n",
              "  <style>\n",
              "    .colab-df-container {\n",
              "      display:flex;\n",
              "      flex-wrap:wrap;\n",
              "      gap: 12px;\n",
              "    }\n",
              "\n",
              "    .colab-df-convert {\n",
              "      background-color: #E8F0FE;\n",
              "      border: none;\n",
              "      border-radius: 50%;\n",
              "      cursor: pointer;\n",
              "      display: none;\n",
              "      fill: #1967D2;\n",
              "      height: 32px;\n",
              "      padding: 0 0 0 0;\n",
              "      width: 32px;\n",
              "    }\n",
              "\n",
              "    .colab-df-convert:hover {\n",
              "      background-color: #E2EBFA;\n",
              "      box-shadow: 0px 1px 2px rgba(60, 64, 67, 0.3), 0px 1px 3px 1px rgba(60, 64, 67, 0.15);\n",
              "      fill: #174EA6;\n",
              "    }\n",
              "\n",
              "    [theme=dark] .colab-df-convert {\n",
              "      background-color: #3B4455;\n",
              "      fill: #D2E3FC;\n",
              "    }\n",
              "\n",
              "    [theme=dark] .colab-df-convert:hover {\n",
              "      background-color: #434B5C;\n",
              "      box-shadow: 0px 1px 3px 1px rgba(0, 0, 0, 0.15);\n",
              "      filter: drop-shadow(0px 1px 2px rgba(0, 0, 0, 0.3));\n",
              "      fill: #FFFFFF;\n",
              "    }\n",
              "  </style>\n",
              "\n",
              "      <script>\n",
              "        const buttonEl =\n",
              "          document.querySelector('#df-8ec0ed91-be44-4427-bf6c-2dc79ac7861f button.colab-df-convert');\n",
              "        buttonEl.style.display =\n",
              "          google.colab.kernel.accessAllowed ? 'block' : 'none';\n",
              "\n",
              "        async function convertToInteractive(key) {\n",
              "          const element = document.querySelector('#df-8ec0ed91-be44-4427-bf6c-2dc79ac7861f');\n",
              "          const dataTable =\n",
              "            await google.colab.kernel.invokeFunction('convertToInteractive',\n",
              "                                                     [key], {});\n",
              "          if (!dataTable) return;\n",
              "\n",
              "          const docLinkHtml = 'Like what you see? Visit the ' +\n",
              "            '<a target=\"_blank\" href=https://colab.research.google.com/notebooks/data_table.ipynb>data table notebook</a>'\n",
              "            + ' to learn more about interactive tables.';\n",
              "          element.innerHTML = '';\n",
              "          dataTable['output_type'] = 'display_data';\n",
              "          await google.colab.output.renderOutput(dataTable, element);\n",
              "          const docLink = document.createElement('div');\n",
              "          docLink.innerHTML = docLinkHtml;\n",
              "          element.appendChild(docLink);\n",
              "        }\n",
              "      </script>\n",
              "    </div>\n",
              "  </div>\n",
              "  "
            ]
          },
          "metadata": {},
          "execution_count": 9
        }
      ]
    },
    {
      "cell_type": "markdown",
      "source": [
        "### <font color=purple>3.1 Histograma</font>\n",
        "***"
      ],
      "metadata": {
        "id": "bzWVhbE8lToK"
      }
    },
    {
      "cell_type": "markdown",
      "source": [
        "Utilizaremos o **Histograma** para analisar a distribuição das idades dos responsáveis do domicílio segundo o PNAD 2015, para a nossa amostra de 1000 linhas."
      ],
      "metadata": {
        "id": "njyKWDgd9hUr"
      }
    },
    {
      "cell_type": "markdown",
      "source": [
        "Bibliotecas de visualização utilizadas:\n",
        "\n",
        "\n",
        "*  [Matplotlib](https://matplotlib.org/)\n",
        "*  [Seaborn](https://seaborn.pydata.org/)\n",
        "\n"
      ],
      "metadata": {
        "id": "zNyyxNWw-AeC"
      }
    },
    {
      "cell_type": "code",
      "source": [
        "# Importando as bibliotecas de visualização de dados\n",
        "import matplotlib.pyplot as plt\n",
        "import seaborn as sns"
      ],
      "metadata": {
        "id": "_AFeSM-HyQ99"
      },
      "execution_count": 10,
      "outputs": []
    },
    {
      "cell_type": "markdown",
      "source": [
        "#### <font color=purple> Histograma básico</font>\n",
        "***"
      ],
      "metadata": {
        "id": "niPDnuzTrSiI"
      }
    },
    {
      "cell_type": "code",
      "source": [
        "## Construindo o histograma com recursos mínimos\n",
        "plt.figure(figsize=(12, 8))\n",
        "plt.hist(x = amostra[\"Idade\"], bins=7, histtype = \"bar\")\n",
        "plt.xlabel(\"Idade\")\n",
        "plt.ylabel(\"Quantidade de pessoas\")\n",
        "plt.show()"
      ],
      "metadata": {
        "colab": {
          "base_uri": "https://localhost:8080/",
          "height": 497
        },
        "id": "-3fAi_Y--K52",
        "outputId": "68166239-5b28-4f70-e489-70bd16be34b8"
      },
      "execution_count": 11,
      "outputs": [
        {
          "output_type": "display_data",
          "data": {
            "text/plain": [
              "<Figure size 864x576 with 1 Axes>"
            ],
            "image/png": "[encoded data removed]"
          },
          "metadata": {
            "needs_background": "light"
          }
        }
      ]
    },
    {
      "cell_type": "markdown",
      "source": [
        "#### <font color=purple> Histograma (com melhorias de visualização)</font>\n",
        "***"
      ],
      "metadata": {
        "id": "bTQPfVWFrfvM"
      }
    },
    {
      "cell_type": "code",
      "source": [
        "## Configurando o gráfico com parâmetros que potencializam a visualização dos dados\n",
        "\n",
        "# Área da visualização e ocultar as bordas do gráfico exceto os eixos X e Y\n",
        "plt.figure(figsize=(12, 8))\n",
        "custom_params = {\"axes.spines.top\": False, \"axes.spines.bottom\": False,\n",
        "                 \"axes.spines.right\": False, \"axes.spines.left\": False}\n",
        "\n",
        "# Tema mais limpo para a visualização com os parâmetros previamente descritos\n",
        "sns.set_theme(context=\"notebook\", style=\"white\", rc=custom_params)\n",
        "\n",
        "# Ajustando a identidade visual dos gráficos\n",
        "sns.set_palette(\"Purples_r\")\n",
        "\n",
        "# Plotando o histograma de colunas e ajustando os intervalos do eixo X\n",
        "n, bins, patches = plt.hist(x = amostra[\"Idade\"], bins=[15, 25, 35, 45, 55, 65, 75, 85])\n",
        "\n",
        "# Adicionando título e subtítulo em nosso gráfico e o nome das labels\n",
        "plt.suptitle(\"Distribuição das idades dos responsáveis do domicilio - PNAD 2015\", size = 18, weight='bold', x = 0.515)\n",
        "plt.title(\"Para uma amostra de 1000 pessoas\", fontsize = 16, pad = 15, loc = \"left\")\n",
        "plt.xlabel(\"Idade\", labelpad = 10, fontsize = 16)\n",
        "\n",
        "# Removendo os valores do eixo y\n",
        "plt.yticks([])\n",
        "\n",
        "# Coletando a posição dos intervalos do eixo x \n",
        "xticks = [(bins[i+1] + value)/2 for i, value in enumerate(bins[:-1])]\n",
        "\n",
        "# Escrevendo os valores de cada barra (eixo Y) no gráfico\n",
        "for i, value in enumerate(n):\n",
        "  offset = 5\n",
        "  plt.text(x = xticks[i], y = value + offset, s = int(value), ha='center')\n",
        "\n",
        "# Oculta as informações no topo do gráfico\n",
        "plt.show()"
      ],
      "metadata": {
        "colab": {
          "base_uri": "https://localhost:8080/",
          "height": 568
        },
        "id": "cw5kCOecryzy",
        "outputId": "c708b086-2567-439a-fe34-c916eb462e78"
      },
      "execution_count": 15,
      "outputs": [
        {
          "output_type": "display_data",
          "data": {
            "text/plain": [
              "<Figure size 864x576 with 1 Axes>"
            ],
            "image/png": "[encoded data removed]"
          },
          "metadata": {}
        }
      ]
    },
    {
      "cell_type": "markdown",
      "source": [
        "### <font color=purple>3.2 Gráfico de Dispersão</font>\n",
        "***"
      ],
      "metadata": {
        "id": "Cv8N3xk1t-sC"
      }
    },
    {
      "cell_type": "markdown",
      "source": [
        "Utilizaremos o **Gráfico de Dispersão** para analisar a renda dos responsáveis do domicilio por idade e região, em milhares de reais, segundo o PNAD 2015, para a nossa amostra de 1000 linhas."
      ],
      "metadata": {
        "id": "1uIZlald-d06"
      }
    },
    {
      "cell_type": "markdown",
      "source": [
        "Biblioteca de visualização utilizada:\n",
        "\n",
        "\n",
        "*  [Plotly](https://plotly.com/python/)\n"
      ],
      "metadata": {
        "id": "ZRpEbCaS-d1J"
      }
    },
    {
      "cell_type": "markdown",
      "source": [
        "#### <font color=purple> Gráfico de dispersão básico</font>\n",
        "***"
      ],
      "metadata": {
        "id": "AWm3jyGjrjYo"
      }
    },
    {
      "cell_type": "code",
      "source": [
        "## Construindo o gráfico \n",
        "plt.figure(figsize=(12, 8))\n",
        "sns.set_theme()\n",
        "plt.scatter(x = amostra[\"Idade\"] , y = amostra[\"Renda\"])\n",
        "plt.xlabel(\"Idade\")\n",
        "plt.ylabel(\"Renda\")\n",
        "plt.show()"
      ],
      "metadata": {
        "colab": {
          "base_uri": "https://localhost:8080/",
          "height": 502
        },
        "id": "gVrxSl7Kt5Pn",
        "outputId": "5602c59e-1b4f-475a-cfae-f42295f9adfb"
      },
      "execution_count": 13,
      "outputs": [
        {
          "output_type": "display_data",
          "data": {
            "text/plain": [
              "<Figure size 864x576 with 1 Axes>"
            ],
            "image/png": "[encoded data removed]"
          },
          "metadata": {
            "needs_background": "light"
          }
        }
      ]
    },
    {
      "cell_type": "markdown",
      "source": [
        "#### <font color=purple> Gráfico de dispersão (com melhorias de visualização)</font>\n",
        "***"
      ],
      "metadata": {
        "id": "iea5BcLErqwN"
      }
    },
    {
      "cell_type": "code",
      "source": [
        "## Configurando o gráfico com parâmetros que potencializam a visualização dos dados\n",
        "import plotly.express as px\n",
        "\n",
        "fig = px.scatter(amostra, x = \"Idade\" , y = \"Renda\", color=\"Regiao\", marginal_y=\"box\", \n",
        "                 title= 'Renda dos responsáveis do domicilio por idade e região - PNAD 2015 <br><sup>Em milhares de Reais</sup>',\n",
        "                 template=\"simple_white\")\n",
        "\n",
        "fig.update_layout(title_font_family=\"Arial\", title_font_size= 20, title_pad_b = 10)\n",
        "\n",
        "fig.show()"
      ],
      "metadata": {
        "id": "4jWH498RmsvK",
        "colab": {
          "base_uri": "https://localhost:8080/",
          "height": 542
        },
        "outputId": "2c6cdb69-26d8-4a7f-ae95-f1d58752f387"
      },
      "execution_count": 14,
      "outputs": [
        {
          "output_type": "display_data",
          "data": {
            "text/html": [
              "<html>\n",
              "<head><meta charset=\"utf-8\" /></head>\n",
              "<body>\n",
              "    <div>            <script src=\"https://cdnjs.cloudflare.com/ajax/libs/mathjax/2.7.5/MathJax.js?config=TeX-AMS-MML_SVG\"></script><script type=\"text/javascript\">if (window.MathJax) {MathJax.Hub.Config({SVG: {font: \"STIX-Web\"}});}</script>                <script type=\"text/javascript\">window.PlotlyConfig = {MathJaxConfig: 'local'};</script>\n",
              "        <script src=\"https://cdn.plot.ly/plotly-2.8.3.min.js\"></script>                <div id=\"ea248179-5cc8-41ff-826c-b97705a76736\" class=\"plotly-graph-div\" style=\"height:525px; width:100%;\"></div>            <script type=\"text/javascript\">                                    window.PLOTLYENV=window.PLOTLYENV || {};                                    if (document.getElementById(\"ea248179-5cc8-41ff-826c-b97705a76736\")) {                    Plotly.newPlot(                        \"ea248179-5cc8-41ff-826c-b97705a76736\",                        [{\"hovertemplate\":\"Regiao=Sudeste<br>Idade=%{x}<br>Renda=%{y}<extra></extra>\",\"legendgroup\":\"Sudeste\",\"marker\":{\"color\":\"#1F77B4\",\"symbol\":\"circle\"},\"mode\":\"markers\",\"name\":\"Sudeste\",\"orientation\":\"v\",\"showlegend\":true,\"x\":[65,54,63,35,55,41,53,51,30,69,22,42,52,28,61,40,49,30,51,27,50,35,37,82,45,52,35,67,27,46,35,33,47,43,31,33,46,52,49,52,49,58,45,61,49,56,33,32,41,56,48,62,35,52,23,57,38,28,36,33,57,61,36,37,51,65,46,34,30,37,35,57,63,40,50,39,54,27,39,54,34,38,65,54,38,32,65,42,56,49,26,69,29,32,33,50,50,48,32,35,63,45,54,48,72,51,64,45,45,38,68,49,43,53,38,45,51,27,48,34,22,61,35,53,45,40,42,34,30,30,31,28,51,34,76,37,53,52,52,33,62,59,29,43,53,41,53,34,50,20,31,37,29,60,47,63,42,31,32,42,26,30,60,29,59,40,29,56,66,48,59,37,44,42,55,39,51,69,36,32,26,57,58,45,68,60,59,59,80,40,35,35,46,51,54,59,42,45,43,28,46,29,38,56,53,44,44,49,50,77,44,39,39,30,43,43,21,38,63,56,57,41,60,37,71,51,52,44,31,43,29,45,59,55,34,49,29,39,46,58,50,40,52,40,37,61,40,57,43,54,48,40,49,61,33,47,32,34,30,21,28,62,42,54,52,62,33,41,28,43,43,60,37,59,28,27,33,40,56,28,65,57,53,57,24,51,33,39],\"xaxis\":\"x\",\"y\":[1000,5000,2400,1260,1000,650,1800,2500,900,1100,1200,800,2300,1100,900,3800,3000,2500,1200,1200,400,2500,788,900,1500,700,788,0,1200,950,2200,850,2300,3500,2600,1000,2000,1550,788,1800,1000,800,1000,2000,2100,1500,900,1300,1000,5000,2000,1500,2800,800,1200,1400,1300,900,3000,2000,3500,700,1400,900,5000,788,7000,1500,1046,1500,1020,400,5000,1000,2500,2560,1500,900,788,2000,9000,2000,800,788,3000,2000,4500,788,4000,2800,1200,1500,2500,5000,1100,1200,788,800,400,3500,400,940,4000,1200,100,1100,0,1320,2000,2000,1400,3900,1100,1600,1500,700,1800,9000,1800,1600,1100,2500,400,2300,1200,8000,2500,1900,7000,1000,5000,7500,1400,1500,300,800,788,6000,2000,1500,788,3940,1000,1300,900,2200,3000,4000,1400,1400,1900,1500,2100,2300,4000,1200,1500,1300,1500,750,924,6000,4500,1200,2409,2000,2000,450,500,1000,815,1500,2500,380,300,1400,3400,0,1000,2300,1300,700,2200,1500,5000,2000,900,2000,2000,1200,2600,850,2200,788,2200,1000,1200,2200,800,2100,4000,2700,1100,3000,1300,1300,1720,4000,1000,400,1400,1500,4500,800,150,600,1300,1760,1800,1100,1800,840,1500,0,3000,1576,1100,1576,788,250,4000,1000,1380,1500,1200,3000,8000,3400,1100,788,1000,4500,800,1500,1400,800,1350,1300,2000,1200,2800,1800,2200,1000,800,2000,1000,2000,1100,4300,788,0,3900,300,3000,5000,800,2500,3500,2000,788,7000,1900,1200,1100,1000,1300,1000,800,5500,1500,950,788,1200,2600,9000,7300,1200],\"yaxis\":\"y\",\"type\":\"scatter\"},{\"alignmentgroup\":\"True\",\"hovertemplate\":\"Regiao=Sudeste<br>Renda=%{y}<extra></extra>\",\"legendgroup\":\"Sudeste\",\"marker\":{\"color\":\"#1F77B4\",\"symbol\":\"circle\"},\"name\":\"Sudeste\",\"notched\":true,\"offsetgroup\":\"Sudeste\",\"showlegend\":false,\"xaxis\":\"x2\",\"y\":[1000,5000,2400,1260,1000,650,1800,2500,900,1100,1200,800,2300,1100,900,3800,3000,2500,1200,1200,400,2500,788,900,1500,700,788,0,1200,950,2200,850,2300,3500,2600,1000,2000,1550,788,1800,1000,800,1000,2000,2100,1500,900,1300,1000,5000,2000,1500,2800,800,1200,1400,1300,900,3000,2000,3500,700,1400,900,5000,788,7000,1500,1046,1500,1020,400,5000,1000,2500,2560,1500,900,788,2000,9000,2000,800,788,3000,2000,4500,788,4000,2800,1200,1500,2500,5000,1100,1200,788,800,400,3500,400,940,4000,1200,100,1100,0,1320,2000,2000,1400,3900,1100,1600,1500,700,1800,9000,1800,1600,1100,2500,400,2300,1200,8000,2500,1900,7000,1000,5000,7500,1400,1500,300,800,788,6000,2000,1500,788,3940,1000,1300,900,2200,3000,4000,1400,1400,1900,1500,2100,2300,4000,1200,1500,1300,1500,750,924,6000,4500,1200,2409,2000,2000,450,500,1000,815,1500,2500,380,300,1400,3400,0,1000,2300,1300,700,2200,1500,5000,2000,900,2000,2000,1200,2600,850,2200,788,2200,1000,1200,2200,800,2100,4000,2700,1100,3000,1300,1300,1720,4000,1000,400,1400,1500,4500,800,150,600,1300,1760,1800,1100,1800,840,1500,0,3000,1576,1100,1576,788,250,4000,1000,1380,1500,1200,3000,8000,3400,1100,788,1000,4500,800,1500,1400,800,1350,1300,2000,1200,2800,1800,2200,1000,800,2000,1000,2000,1100,4300,788,0,3900,300,3000,5000,800,2500,3500,2000,788,7000,1900,1200,1100,1000,1300,1000,800,5500,1500,950,788,1200,2600,9000,7300,1200],\"yaxis\":\"y2\",\"type\":\"box\"},{\"hovertemplate\":\"Regiao=Nordeste<br>Idade=%{x}<br>Renda=%{y}<extra></extra>\",\"legendgroup\":\"Nordeste\",\"marker\":{\"color\":\"#FF7F0E\",\"symbol\":\"circle\"},\"mode\":\"markers\",\"name\":\"Nordeste\",\"orientation\":\"v\",\"showlegend\":true,\"x\":[51,51,36,22,42,23,35,66,49,34,44,37,29,54,42,35,41,34,56,40,37,34,58,23,60,64,46,60,31,41,34,50,44,34,49,65,63,34,50,35,63,31,30,58,43,56,60,52,25,26,45,52,45,34,54,42,42,63,42,46,46,36,38,37,37,46,48,41,38,38,31,46,52,56,29,52,25,63,32,53,44,47,41,45,24,48,36,69,58,31,37,35,69,42,28,44,48,36,55,45,23,46,28,30,35,36,32,63,35,48,26,49,25,56,49,52,49,56,50,56,65,36,33,33,40,38,46,32,53,55,36,64,43,45,51,33,41,33,25,33,75,56,60,33,62,45,66,44,48,26,28,66,54,29,36,50,53,62,42,23,33,64,35,45,47,29,46,39,34,29,40,48,60,59,38,47,57,43,35,45,29,34,40,45,50,46,40,63,43,30,38,54,35,42,54,44,24,55,50,36,46,41,60,42,43,34,52,52,38,22,74,23,63,35,30,39,28,23,45,32,47,39,17,22,26,56,63,40,30,27,29,46,59,41,44,57,55,43,39,56,67,36,38,33,35,55,26,26,37,40,80,46,51,61,42,53,56,25,35,49,52,41],\"xaxis\":\"x\",\"y\":[450,1000,788,500,800,1500,1700,900,2000,1300,0,800,900,788,200,3500,788,2000,0,1200,75,788,788,600,10000,2300,1200,788,788,100,190,400,1200,700,1200,400,300,788,600,1100,100,200,790,1000,960,900,1000,1200,788,1200,5000,300,128,788,1300,1500,1500,788,400,3085,22,1900,788,2000,950,788,750,200,788,900,788,880,3500,130,700,0,846,0,1200,0,788,1000,788,6000,1000,3800,300,800,6000,1800,788,500,1500,2400,2500,1000,0,1000,600,1014,0,788,872,200,1400,1000,0,800,1600,1000,600,500,3000,300,0,1000,1000,150,1500,5500,0,3000,200,200,850,400,1200,788,788,100,150,500,788,4000,1200,1200,1100,1200,1252,788,0,7000,120,5000,0,788,70,700,788,800,788,130,1000,1200,870,600,900,700,788,400,560,788,900,500,1000,2500,600,880,0,2000,250,4500,1100,240,4000,500,788,280,788,1200,788,5000,1576,550,1200,700,0,1500,1000,2200,900,0,1000,1400,0,2000,938,100,1650,300,2000,3800,788,350,700,1200,45,500,788,3500,100,400,788,972,400,1200,500,788,100,2000,1500,1350,320,0,1100,8000,788,2300,1000,700,1200,1100,4000,400,0,788,800,2800,1200,1100,300,1200,900,788,788,700,1000,3000,6500,580,5000,1000,300,700,650,2900,1200,200,1100,2500,100,600],\"yaxis\":\"y\",\"type\":\"scatter\"},{\"alignmentgroup\":\"True\",\"hovertemplate\":\"Regiao=Nordeste<br>Renda=%{y}<extra></extra>\",\"legendgroup\":\"Nordeste\",\"marker\":{\"color\":\"#FF7F0E\",\"symbol\":\"circle\"},\"name\":\"Nordeste\",\"notched\":true,\"offsetgroup\":\"Nordeste\",\"showlegend\":false,\"xaxis\":\"x2\",\"y\":[450,1000,788,500,800,1500,1700,900,2000,1300,0,800,900,788,200,3500,788,2000,0,1200,75,788,788,600,10000,2300,1200,788,788,100,190,400,1200,700,1200,400,300,788,600,1100,100,200,790,1000,960,900,1000,1200,788,1200,5000,300,128,788,1300,1500,1500,788,400,3085,22,1900,788,2000,950,788,750,200,788,900,788,880,3500,130,700,0,846,0,1200,0,788,1000,788,6000,1000,3800,300,800,6000,1800,788,500,1500,2400,2500,1000,0,1000,600,1014,0,788,872,200,1400,1000,0,800,1600,1000,600,500,3000,300,0,1000,1000,150,1500,5500,0,3000,200,200,850,400,1200,788,788,100,150,500,788,4000,1200,1200,1100,1200,1252,788,0,7000,120,5000,0,788,70,700,788,800,788,130,1000,1200,870,600,900,700,788,400,560,788,900,500,1000,2500,600,880,0,2000,250,4500,1100,240,4000,500,788,280,788,1200,788,5000,1576,550,1200,700,0,1500,1000,2200,900,0,1000,1400,0,2000,938,100,1650,300,2000,3800,788,350,700,1200,45,500,788,3500,100,400,788,972,400,1200,500,788,100,2000,1500,1350,320,0,1100,8000,788,2300,1000,700,1200,1100,4000,400,0,788,800,2800,1200,1100,300,1200,900,788,788,700,1000,3000,6500,580,5000,1000,300,700,650,2900,1200,200,1100,2500,100,600],\"yaxis\":\"y2\",\"type\":\"box\"},{\"hovertemplate\":\"Regiao=Sul<br>Idade=%{x}<br>Renda=%{y}<extra></extra>\",\"legendgroup\":\"Sul\",\"marker\":{\"color\":\"#2CA02C\",\"symbol\":\"circle\"},\"mode\":\"markers\",\"name\":\"Sul\",\"orientation\":\"v\",\"showlegend\":true,\"x\":[47,28,27,39,62,59,33,29,57,68,49,46,61,24,41,63,45,58,49,42,46,40,40,49,57,57,36,31,34,41,66,58,64,34,55,50,39,68,41,34,30,55,40,42,44,49,44,41,35,33,52,51,45,33,39,59,59,45,23,55,55,43,56,19,47,34,30,21,46,60,36,31,58,49,41,49,41,29,35,42,37,37,30,58,30,46,50,56,47,22,36,30,39,28,63,64,53,39,29,41,64,46,77,57,53,50,24,53,63,56,53,42,28,42,48,61,56,33,37,55,51,58,59,56,29,60,57,51,37,22,48,31,38,28,30,62,28,48,36,47,68,29,54,55,44,28,49,52,61,66,38,51,22,59,45,41,39,70,47,33,58,41,42,44,28,60,49,42,43,35,46,64,40,26,42,54,47,39,45,37,38,36,46,60,26,46],\"xaxis\":\"x\",\"y\":[500,980,4000,2000,0,1200,1200,1500,2000,980,3200,1500,430,700,980,1100,2000,5000,4800,1000,1250,4500,1053,2000,900,1700,4000,2500,8000,3800,600,3000,400,10000,2500,2500,1000,1800,2000,1200,600,1580,1250,160,1080,500,1500,2500,900,3000,1500,1200,2000,500,2000,2500,0,2300,1200,2500,0,4000,3000,788,300,1500,3000,1100,1700,1627,1600,1900,1200,1580,7000,4000,1500,1700,1500,630,2200,2500,954,1500,2000,4000,2000,950,1100,1000,1800,4100,6000,1300,150,8000,1200,1000,1000,3000,450,3600,2000,4000,600,800,1115,1300,3000,2000,1500,1000,1600,700,1280,1100,1700,2500,1800,788,788,600,1760,788,3500,200,800,4000,788,1000,2300,2000,1200,3000,3000,1500,1200,1350,1500,1300,200,5000,1500,2000,3000,5000,3500,2000,788,788,5000,1150,1200,3000,4500,4000,5000,788,3500,1600,1800,1500,1250,2200,7500,120,3000,5000,2500,2300,5000,4000,0,1700,4000,1500,900,2800,1200,1600,2500,3000,3500,250,2000,800],\"yaxis\":\"y\",\"type\":\"scatter\"},{\"alignmentgroup\":\"True\",\"hovertemplate\":\"Regiao=Sul<br>Renda=%{y}<extra></extra>\",\"legendgroup\":\"Sul\",\"marker\":{\"color\":\"#2CA02C\",\"symbol\":\"circle\"},\"name\":\"Sul\",\"notched\":true,\"offsetgroup\":\"Sul\",\"showlegend\":false,\"xaxis\":\"x2\",\"y\":[500,980,4000,2000,0,1200,1200,1500,2000,980,3200,1500,430,700,980,1100,2000,5000,4800,1000,1250,4500,1053,2000,900,1700,4000,2500,8000,3800,600,3000,400,10000,2500,2500,1000,1800,2000,1200,600,1580,1250,160,1080,500,1500,2500,900,3000,1500,1200,2000,500,2000,2500,0,2300,1200,2500,0,4000,3000,788,300,1500,3000,1100,1700,1627,1600,1900,1200,1580,7000,4000,1500,1700,1500,630,2200,2500,954,1500,2000,4000,2000,950,1100,1000,1800,4100,6000,1300,150,8000,1200,1000,1000,3000,450,3600,2000,4000,600,800,1115,1300,3000,2000,1500,1000,1600,700,1280,1100,1700,2500,1800,788,788,600,1760,788,3500,200,800,4000,788,1000,2300,2000,1200,3000,3000,1500,1200,1350,1500,1300,200,5000,1500,2000,3000,5000,3500,2000,788,788,5000,1150,1200,3000,4500,4000,5000,788,3500,1600,1800,1500,1250,2200,7500,120,3000,5000,2500,2300,5000,4000,0,1700,4000,1500,900,2800,1200,1600,2500,3000,3500,250,2000,800],\"yaxis\":\"y2\",\"type\":\"box\"},{\"hovertemplate\":\"Regiao=Norte<br>Idade=%{x}<br>Renda=%{y}<extra></extra>\",\"legendgroup\":\"Norte\",\"marker\":{\"color\":\"#D62728\",\"symbol\":\"circle\"},\"mode\":\"markers\",\"name\":\"Norte\",\"orientation\":\"v\",\"showlegend\":true,\"x\":[38,41,49,52,41,32,26,38,54,35,56,51,21,42,58,45,61,78,31,30,41,60,49,37,59,41,55,41,38,42,52,24,38,31,35,27,29,47,47,45,55,35,47,22,49,45,43,67,40,55,60,32,53,25,52,67,33,42,25,46,51,63,32,66,64,38,39,42,38,53,43,61,42,62,35,64,23,27,35,48,65,23,67,29,25,29,30,36,33,30,52,40,51,22,27,33,29,44,57,43,34,32,57,38,22,30,63,47,27,45,40,59,26,38,44,35,43,42,53,50,57,47,63,24,33,36,49,64,72,35],\"xaxis\":\"x\",\"y\":[3500,1200,1450,300,2400,830,1560,0,1200,1400,7000,1000,788,4000,7000,700,0,1000,300,1500,800,2000,1000,800,600,2700,500,1600,900,1000,1200,800,1200,700,788,1000,1000,800,1000,1200,1000,1600,1500,1200,1000,500,1200,1200,1300,1500,700,1300,800,2500,3000,300,1000,350,850,800,788,0,500,2645,0,500,300,900,300,50,4000,400,4500,1500,0,500,2000,1600,955,1200,300,788,4000,4000,2500,450,700,1000,1100,3800,380,0,800,3500,980,800,1500,700,7000,1200,3000,2125,788,3500,1300,1400,700,2500,3000,1600,788,600,788,4300,888,900,420,5300,850,100,3000,2028,3000,788,900,600,788,1000,300,1000],\"yaxis\":\"y\",\"type\":\"scatter\"},{\"alignmentgroup\":\"True\",\"hovertemplate\":\"Regiao=Norte<br>Renda=%{y}<extra></extra>\",\"legendgroup\":\"Norte\",\"marker\":{\"color\":\"#D62728\",\"symbol\":\"circle\"},\"name\":\"Norte\",\"notched\":true,\"offsetgroup\":\"Norte\",\"showlegend\":false,\"xaxis\":\"x2\",\"y\":[3500,1200,1450,300,2400,830,1560,0,1200,1400,7000,1000,788,4000,7000,700,0,1000,300,1500,800,2000,1000,800,600,2700,500,1600,900,1000,1200,800,1200,700,788,1000,1000,800,1000,1200,1000,1600,1500,1200,1000,500,1200,1200,1300,1500,700,1300,800,2500,3000,300,1000,350,850,800,788,0,500,2645,0,500,300,900,300,50,4000,400,4500,1500,0,500,2000,1600,955,1200,300,788,4000,4000,2500,450,700,1000,1100,3800,380,0,800,3500,980,800,1500,700,7000,1200,3000,2125,788,3500,1300,1400,700,2500,3000,1600,788,600,788,4300,888,900,420,5300,850,100,3000,2028,3000,788,900,600,788,1000,300,1000],\"yaxis\":\"y2\",\"type\":\"box\"},{\"hovertemplate\":\"Regiao=Centro-Oeste<br>Idade=%{x}<br>Renda=%{y}<extra></extra>\",\"legendgroup\":\"Centro-Oeste\",\"marker\":{\"color\":\"#9467BD\",\"symbol\":\"circle\"},\"mode\":\"markers\",\"name\":\"Centro-Oeste\",\"orientation\":\"v\",\"showlegend\":true,\"x\":[53,42,35,56,24,43,42,31,62,30,34,36,45,38,27,45,45,49,53,48,57,35,44,40,61,59,43,59,47,53,71,28,36,33,26,51,38,33,60,25,48,61,50,22,59,33,27,45,45,45,50,44,22,33,26,21,47,42,46,38,38,37,61,45,55,42,42,44,77,66,65,54,35,34,41,45,47,48,56,55,59,27,57,28,37,49,46,35,35,27,39,41,51,57,47,42,59,52,53,59,47,35,55,41,37,42,39,56,44,36,28,24,32,39,48,48,61,64,39,59,33,38,48,57,52,25,29,56,32,42,47,50,48,39],\"xaxis\":\"x\",\"y\":[1400,789,788,788,750,2000,240,1570,1100,1900,2500,1800,580,1114,800,800,1500,1400,1200,900,1200,420,3000,800,3000,1000,600,900,2000,8000,0,2390,1800,2700,400,1576,7000,3500,788,780,788,788,1800,2140,400,1500,1020,3000,1580,1050,1300,1600,1764,1500,1200,1100,1000,1380,5000,1500,2500,1800,2250,1500,9000,4500,7000,1000,788,200,900,900,8000,1500,1200,1500,3000,2000,800,2400,400,1200,1576,2600,1080,788,1500,788,1600,2600,2200,5000,1740,1200,600,1400,900,2500,1900,600,1000,830,5000,3500,5200,3000,1500,950,1300,1200,6000,1100,4500,8000,1800,5000,600,0,2000,1000,1500,1200,700,3000,5000,1000,1500,3000,1300,1500,3000,3000,2000,3000],\"yaxis\":\"y\",\"type\":\"scatter\"},{\"alignmentgroup\":\"True\",\"hovertemplate\":\"Regiao=Centro-Oeste<br>Renda=%{y}<extra></extra>\",\"legendgroup\":\"Centro-Oeste\",\"marker\":{\"color\":\"#9467BD\",\"symbol\":\"circle\"},\"name\":\"Centro-Oeste\",\"notched\":true,\"offsetgroup\":\"Centro-Oeste\",\"showlegend\":false,\"xaxis\":\"x2\",\"y\":[1400,789,788,788,750,2000,240,1570,1100,1900,2500,1800,580,1114,800,800,1500,1400,1200,900,1200,420,3000,800,3000,1000,600,900,2000,8000,0,2390,1800,2700,400,1576,7000,3500,788,780,788,788,1800,2140,400,1500,1020,3000,1580,1050,1300,1600,1764,1500,1200,1100,1000,1380,5000,1500,2500,1800,2250,1500,9000,4500,7000,1000,788,200,900,900,8000,1500,1200,1500,3000,2000,800,2400,400,1200,1576,2600,1080,788,1500,788,1600,2600,2200,5000,1740,1200,600,1400,900,2500,1900,600,1000,830,5000,3500,5200,3000,1500,950,1300,1200,6000,1100,4500,8000,1800,5000,600,0,2000,1000,1500,1200,700,3000,5000,1000,1500,3000,1300,1500,3000,3000,2000,3000],\"yaxis\":\"y2\",\"type\":\"box\"}],                        {\"template\":{\"data\":{\"barpolar\":[{\"marker\":{\"line\":{\"color\":\"white\",\"width\":0.5},\"pattern\":{\"fillmode\":\"overlay\",\"size\":10,\"solidity\":0.2}},\"type\":\"barpolar\"}],\"bar\":[{\"error_x\":{\"color\":\"rgb(36,36,36)\"},\"error_y\":{\"color\":\"rgb(36,36,36)\"},\"marker\":{\"line\":{\"color\":\"white\",\"width\":0.5},\"pattern\":{\"fillmode\":\"overlay\",\"size\":10,\"solidity\":0.2}},\"type\":\"bar\"}],\"carpet\":[{\"aaxis\":{\"endlinecolor\":\"rgb(36,36,36)\",\"gridcolor\":\"white\",\"linecolor\":\"white\",\"minorgridcolor\":\"white\",\"startlinecolor\":\"rgb(36,36,36)\"},\"baxis\":{\"endlinecolor\":\"rgb(36,36,36)\",\"gridcolor\":\"white\",\"linecolor\":\"white\",\"minorgridcolor\":\"white\",\"startlinecolor\":\"rgb(36,36,36)\"},\"type\":\"carpet\"}],\"choropleth\":[{\"colorbar\":{\"outlinewidth\":1,\"tickcolor\":\"rgb(36,36,36)\",\"ticks\":\"outside\"},\"type\":\"choropleth\"}],\"contourcarpet\":[{\"colorbar\":{\"outlinewidth\":1,\"tickcolor\":\"rgb(36,36,36)\",\"ticks\":\"outside\"},\"type\":\"contourcarpet\"}],\"contour\":[{\"colorbar\":{\"outlinewidth\":1,\"tickcolor\":\"rgb(36,36,36)\",\"ticks\":\"outside\"},\"colorscale\":[[0.0,\"#440154\"],[0.1111111111111111,\"#482878\"],[0.2222222222222222,\"#3e4989\"],[0.3333333333333333,\"#31688e\"],[0.4444444444444444,\"#26828e\"],[0.5555555555555556,\"#1f9e89\"],[0.6666666666666666,\"#35b779\"],[0.7777777777777778,\"#6ece58\"],[0.8888888888888888,\"#b5de2b\"],[1.0,\"#fde725\"]],\"type\":\"contour\"}],\"heatmapgl\":[{\"colorbar\":{\"outlinewidth\":1,\"tickcolor\":\"rgb(36,36,36)\",\"ticks\":\"outside\"},\"colorscale\":[[0.0,\"#440154\"],[0.1111111111111111,\"#482878\"],[0.2222222222222222,\"#3e4989\"],[0.3333333333333333,\"#31688e\"],[0.4444444444444444,\"#26828e\"],[0.5555555555555556,\"#1f9e89\"],[0.6666666666666666,\"#35b779\"],[0.7777777777777778,\"#6ece58\"],[0.8888888888888888,\"#b5de2b\"],[1.0,\"#fde725\"]],\"type\":\"heatmapgl\"}],\"heatmap\":[{\"colorbar\":{\"outlinewidth\":1,\"tickcolor\":\"rgb(36,36,36)\",\"ticks\":\"outside\"},\"colorscale\":[[0.0,\"#440154\"],[0.1111111111111111,\"#482878\"],[0.2222222222222222,\"#3e4989\"],[0.3333333333333333,\"#31688e\"],[0.4444444444444444,\"#26828e\"],[0.5555555555555556,\"#1f9e89\"],[0.6666666666666666,\"#35b779\"],[0.7777777777777778,\"#6ece58\"],[0.8888888888888888,\"#b5de2b\"],[1.0,\"#fde725\"]],\"type\":\"heatmap\"}],\"histogram2dcontour\":[{\"colorbar\":{\"outlinewidth\":1,\"tickcolor\":\"rgb(36,36,36)\",\"ticks\":\"outside\"},\"colorscale\":[[0.0,\"#440154\"],[0.1111111111111111,\"#482878\"],[0.2222222222222222,\"#3e4989\"],[0.3333333333333333,\"#31688e\"],[0.4444444444444444,\"#26828e\"],[0.5555555555555556,\"#1f9e89\"],[0.6666666666666666,\"#35b779\"],[0.7777777777777778,\"#6ece58\"],[0.8888888888888888,\"#b5de2b\"],[1.0,\"#fde725\"]],\"type\":\"histogram2dcontour\"}],\"histogram2d\":[{\"colorbar\":{\"outlinewidth\":1,\"tickcolor\":\"rgb(36,36,36)\",\"ticks\":\"outside\"},\"colorscale\":[[0.0,\"#440154\"],[0.1111111111111111,\"#482878\"],[0.2222222222222222,\"#3e4989\"],[0.3333333333333333,\"#31688e\"],[0.4444444444444444,\"#26828e\"],[0.5555555555555556,\"#1f9e89\"],[0.6666666666666666,\"#35b779\"],[0.7777777777777778,\"#6ece58\"],[0.8888888888888888,\"#b5de2b\"],[1.0,\"#fde725\"]],\"type\":\"histogram2d\"}],\"histogram\":[{\"marker\":{\"line\":{\"color\":\"white\",\"width\":0.6}},\"type\":\"histogram\"}],\"mesh3d\":[{\"colorbar\":{\"outlinewidth\":1,\"tickcolor\":\"rgb(36,36,36)\",\"ticks\":\"outside\"},\"type\":\"mesh3d\"}],\"parcoords\":[{\"line\":{\"colorbar\":{\"outlinewidth\":1,\"tickcolor\":\"rgb(36,36,36)\",\"ticks\":\"outside\"}},\"type\":\"parcoords\"}],\"pie\":[{\"automargin\":true,\"type\":\"pie\"}],\"scatter3d\":[{\"line\":{\"colorbar\":{\"outlinewidth\":1,\"tickcolor\":\"rgb(36,36,36)\",\"ticks\":\"outside\"}},\"marker\":{\"colorbar\":{\"outlinewidth\":1,\"tickcolor\":\"rgb(36,36,36)\",\"ticks\":\"outside\"}},\"type\":\"scatter3d\"}],\"scattercarpet\":[{\"marker\":{\"colorbar\":{\"outlinewidth\":1,\"tickcolor\":\"rgb(36,36,36)\",\"ticks\":\"outside\"}},\"type\":\"scattercarpet\"}],\"scattergeo\":[{\"marker\":{\"colorbar\":{\"outlinewidth\":1,\"tickcolor\":\"rgb(36,36,36)\",\"ticks\":\"outside\"}},\"type\":\"scattergeo\"}],\"scattergl\":[{\"marker\":{\"colorbar\":{\"outlinewidth\":1,\"tickcolor\":\"rgb(36,36,36)\",\"ticks\":\"outside\"}},\"type\":\"scattergl\"}],\"scattermapbox\":[{\"marker\":{\"colorbar\":{\"outlinewidth\":1,\"tickcolor\":\"rgb(36,36,36)\",\"ticks\":\"outside\"}},\"type\":\"scattermapbox\"}],\"scatterpolargl\":[{\"marker\":{\"colorbar\":{\"outlinewidth\":1,\"tickcolor\":\"rgb(36,36,36)\",\"ticks\":\"outside\"}},\"type\":\"scatterpolargl\"}],\"scatterpolar\":[{\"marker\":{\"colorbar\":{\"outlinewidth\":1,\"tickcolor\":\"rgb(36,36,36)\",\"ticks\":\"outside\"}},\"type\":\"scatterpolar\"}],\"scatter\":[{\"marker\":{\"colorbar\":{\"outlinewidth\":1,\"tickcolor\":\"rgb(36,36,36)\",\"ticks\":\"outside\"}},\"type\":\"scatter\"}],\"scatterternary\":[{\"marker\":{\"colorbar\":{\"outlinewidth\":1,\"tickcolor\":\"rgb(36,36,36)\",\"ticks\":\"outside\"}},\"type\":\"scatterternary\"}],\"surface\":[{\"colorbar\":{\"outlinewidth\":1,\"tickcolor\":\"rgb(36,36,36)\",\"ticks\":\"outside\"},\"colorscale\":[[0.0,\"#440154\"],[0.1111111111111111,\"#482878\"],[0.2222222222222222,\"#3e4989\"],[0.3333333333333333,\"#31688e\"],[0.4444444444444444,\"#26828e\"],[0.5555555555555556,\"#1f9e89\"],[0.6666666666666666,\"#35b779\"],[0.7777777777777778,\"#6ece58\"],[0.8888888888888888,\"#b5de2b\"],[1.0,\"#fde725\"]],\"type\":\"surface\"}],\"table\":[{\"cells\":{\"fill\":{\"color\":\"rgb(237,237,237)\"},\"line\":{\"color\":\"white\"}},\"header\":{\"fill\":{\"color\":\"rgb(217,217,217)\"},\"line\":{\"color\":\"white\"}},\"type\":\"table\"}]},\"layout\":{\"annotationdefaults\":{\"arrowhead\":0,\"arrowwidth\":1},\"autotypenumbers\":\"strict\",\"coloraxis\":{\"colorbar\":{\"outlinewidth\":1,\"tickcolor\":\"rgb(36,36,36)\",\"ticks\":\"outside\"}},\"colorscale\":{\"diverging\":[[0.0,\"rgb(103,0,31)\"],[0.1,\"rgb(178,24,43)\"],[0.2,\"rgb(214,96,77)\"],[0.3,\"rgb(244,165,130)\"],[0.4,\"rgb(253,219,199)\"],[0.5,\"rgb(247,247,247)\"],[0.6,\"rgb(209,229,240)\"],[0.7,\"rgb(146,197,222)\"],[0.8,\"rgb(67,147,195)\"],[0.9,\"rgb(33,102,172)\"],[1.0,\"rgb(5,48,97)\"]],\"sequential\":[[0.0,\"#440154\"],[0.1111111111111111,\"#482878\"],[0.2222222222222222,\"#3e4989\"],[0.3333333333333333,\"#31688e\"],[0.4444444444444444,\"#26828e\"],[0.5555555555555556,\"#1f9e89\"],[0.6666666666666666,\"#35b779\"],[0.7777777777777778,\"#6ece58\"],[0.8888888888888888,\"#b5de2b\"],[1.0,\"#fde725\"]],\"sequentialminus\":[[0.0,\"#440154\"],[0.1111111111111111,\"#482878\"],[0.2222222222222222,\"#3e4989\"],[0.3333333333333333,\"#31688e\"],[0.4444444444444444,\"#26828e\"],[0.5555555555555556,\"#1f9e89\"],[0.6666666666666666,\"#35b779\"],[0.7777777777777778,\"#6ece58\"],[0.8888888888888888,\"#b5de2b\"],[1.0,\"#fde725\"]]},\"colorway\":[\"#1F77B4\",\"#FF7F0E\",\"#2CA02C\",\"#D62728\",\"#9467BD\",\"#8C564B\",\"#E377C2\",\"#7F7F7F\",\"#BCBD22\",\"#17BECF\"],\"font\":{\"color\":\"rgb(36,36,36)\"},\"geo\":{\"bgcolor\":\"white\",\"lakecolor\":\"white\",\"landcolor\":\"white\",\"showlakes\":true,\"showland\":true,\"subunitcolor\":\"white\"},\"hoverlabel\":{\"align\":\"left\"},\"hovermode\":\"closest\",\"mapbox\":{\"style\":\"light\"},\"paper_bgcolor\":\"white\",\"plot_bgcolor\":\"white\",\"polar\":{\"angularaxis\":{\"gridcolor\":\"rgb(232,232,232)\",\"linecolor\":\"rgb(36,36,36)\",\"showgrid\":false,\"showline\":true,\"ticks\":\"outside\"},\"bgcolor\":\"white\",\"radialaxis\":{\"gridcolor\":\"rgb(232,232,232)\",\"linecolor\":\"rgb(36,36,36)\",\"showgrid\":false,\"showline\":true,\"ticks\":\"outside\"}},\"scene\":{\"xaxis\":{\"backgroundcolor\":\"white\",\"gridcolor\":\"rgb(232,232,232)\",\"gridwidth\":2,\"linecolor\":\"rgb(36,36,36)\",\"showbackground\":true,\"showgrid\":false,\"showline\":true,\"ticks\":\"outside\",\"zeroline\":false,\"zerolinecolor\":\"rgb(36,36,36)\"},\"yaxis\":{\"backgroundcolor\":\"white\",\"gridcolor\":\"rgb(232,232,232)\",\"gridwidth\":2,\"linecolor\":\"rgb(36,36,36)\",\"showbackground\":true,\"showgrid\":false,\"showline\":true,\"ticks\":\"outside\",\"zeroline\":false,\"zerolinecolor\":\"rgb(36,36,36)\"},\"zaxis\":{\"backgroundcolor\":\"white\",\"gridcolor\":\"rgb(232,232,232)\",\"gridwidth\":2,\"linecolor\":\"rgb(36,36,36)\",\"showbackground\":true,\"showgrid\":false,\"showline\":true,\"ticks\":\"outside\",\"zeroline\":false,\"zerolinecolor\":\"rgb(36,36,36)\"}},\"shapedefaults\":{\"fillcolor\":\"black\",\"line\":{\"width\":0},\"opacity\":0.3},\"ternary\":{\"aaxis\":{\"gridcolor\":\"rgb(232,232,232)\",\"linecolor\":\"rgb(36,36,36)\",\"showgrid\":false,\"showline\":true,\"ticks\":\"outside\"},\"baxis\":{\"gridcolor\":\"rgb(232,232,232)\",\"linecolor\":\"rgb(36,36,36)\",\"showgrid\":false,\"showline\":true,\"ticks\":\"outside\"},\"bgcolor\":\"white\",\"caxis\":{\"gridcolor\":\"rgb(232,232,232)\",\"linecolor\":\"rgb(36,36,36)\",\"showgrid\":false,\"showline\":true,\"ticks\":\"outside\"}},\"title\":{\"x\":0.05},\"xaxis\":{\"automargin\":true,\"gridcolor\":\"rgb(232,232,232)\",\"linecolor\":\"rgb(36,36,36)\",\"showgrid\":false,\"showline\":true,\"ticks\":\"outside\",\"title\":{\"standoff\":15},\"zeroline\":false,\"zerolinecolor\":\"rgb(36,36,36)\"},\"yaxis\":{\"automargin\":true,\"gridcolor\":\"rgb(232,232,232)\",\"linecolor\":\"rgb(36,36,36)\",\"showgrid\":false,\"showline\":true,\"ticks\":\"outside\",\"title\":{\"standoff\":15},\"zeroline\":false,\"zerolinecolor\":\"rgb(36,36,36)\"}}},\"xaxis\":{\"anchor\":\"y\",\"domain\":[0.0,0.7363],\"title\":{\"text\":\"Idade\"}},\"yaxis\":{\"anchor\":\"x\",\"domain\":[0.0,1.0],\"title\":{\"text\":\"Renda\"}},\"xaxis2\":{\"anchor\":\"y2\",\"domain\":[0.7413,1.0],\"matches\":\"x2\",\"showticklabels\":false,\"showline\":false,\"ticks\":\"\"},\"yaxis2\":{\"anchor\":\"x2\",\"domain\":[0.0,1.0],\"matches\":\"y\",\"showticklabels\":false},\"legend\":{\"title\":{\"text\":\"Regiao\"},\"tracegroupgap\":0},\"title\":{\"text\":\"Renda dos respons\\u00e1veis do domicilio por idade e regi\\u00e3o - PNAD 2015 <br><sup>Em milhares de Reais</sup>\",\"font\":{\"family\":\"Arial\",\"size\":20},\"pad\":{\"b\":10}}},                        {\"responsive\": true}                    ).then(function(){\n",
              "                            \n",
              "var gd = document.getElementById('ea248179-5cc8-41ff-826c-b97705a76736');\n",
              "var x = new MutationObserver(function (mutations, observer) {{\n",
              "        var display = window.getComputedStyle(gd).display;\n",
              "        if (!display || display === 'none') {{\n",
              "            console.log([gd, 'removed!']);\n",
              "            Plotly.purge(gd);\n",
              "            observer.disconnect();\n",
              "        }}\n",
              "}});\n",
              "\n",
              "// Listen for the removal of the full notebook cells\n",
              "var notebookContainer = gd.closest('#notebook-container');\n",
              "if (notebookContainer) {{\n",
              "    x.observe(notebookContainer, {childList: true});\n",
              "}}\n",
              "\n",
              "// Listen for the clearing of the current output cell\n",
              "var outputEl = gd.closest('.output');\n",
              "if (outputEl) {{\n",
              "    x.observe(outputEl, {childList: true});\n",
              "}}\n",
              "\n",
              "                        })                };                            </script>        </div>\n",
              "</body>\n",
              "</html>"
            ]
          },
          "metadata": {}
        }
      ]
    }
  ]
}